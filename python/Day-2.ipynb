{
 "cells": [
  {
   "cell_type": "code",
   "execution_count": null,
   "id": "de2f025d-82b9-4f55-8251-bf0071f971df",
   "metadata": {},
   "outputs": [],
   "source": [
    "# firstly keeping the days in the list then making the function day to pass the argument name and delta then using the loop we find the item then comparing the item with the input name to find the indexes then adding the indexes and delta  and calculating the remainder using mod then return the days having that delta in list "
   ]
  },
  {
   "cell_type": "code",
   "execution_count": 64,
   "id": "f8e0129f-fe2e-4759-a08a-040b44b795bb",
   "metadata": {},
   "outputs": [
    {
     "name": "stdin",
     "output_type": "stream",
     "text": [
      "Today is Sunday\n",
      "leave time -9\n"
     ]
    },
    {
     "name": "stdout",
     "output_type": "stream",
     "text": [
      "Friday\n"
     ]
    }
   ],
   "source": [
    "days = [\"Sunday\",\"Monday\",\"Tuesday\",\"Wednesday\",\"Thursday\",\"Friday\",\"Saturday\"]\n",
    "def day(name , delta):\n",
    "    for item in days:\n",
    "        if item == name:\n",
    "            indexs = days.index(item)\n",
    "            delta = (indexs + delta) % 7 \n",
    "            return days[delta]\n",
    "    return None\n",
    "        \n",
    "name = str(input(\"Today is\"))\n",
    "delta = int(input(\"leave time\"))\n",
    "result = day(name , delta)\n",
    "print(result)"
   ]
  },
  {
   "cell_type": "code",
   "execution_count": null,
   "id": "6f3c91a1-46b4-47c7-8a94-c8e45674aa2d",
   "metadata": {},
   "outputs": [],
   "source": [
    "#Similar to tha above problem,here making the directories having the months and their respective days then making the funtion by passing the month as argument,then using the loop we find the item then compare with the input month then we get the days by using .get from directories and return the days  "
   ]
  },
  {
   "cell_type": "code",
   "execution_count": 63,
   "id": "c018a13d-bdd9-4b52-b419-3eec4cc8045c",
   "metadata": {},
   "outputs": [
    {
     "name": "stdin",
     "output_type": "stream",
     "text": [
      "Enter the month February\n"
     ]
    },
    {
     "data": {
      "text/plain": [
       "28"
      ]
     },
     "execution_count": 63,
     "metadata": {},
     "output_type": "execute_result"
    }
   ],
   "source": [
    "month_days = {\"January\": 31,\"February\": 28,\"March\": 31,\"April\": 30,\"May\": 31,\"June\": 30,\"July\": 31,\"August\": 31,\"September\": 30,\"October\": 31,\"November\": 30,\"December\": 31}\n",
    "def days_in_month(month):\n",
    "    for item in month_days:\n",
    "        if item == month:\n",
    "            days = month_days.get(item)\n",
    "            return days\n",
    "    return None\n",
    "month = str(input(\"Enter the month\"))\n",
    "days_in_month(month)"
   ]
  },
  {
   "cell_type": "code",
   "execution_count": 69,
   "id": "e1e14df1-719c-4266-8e30-87eee03033bc",
   "metadata": {},
   "outputs": [],
   "source": [
    "##Iteration"
   ]
  },
  {
   "cell_type": "code",
   "execution_count": null,
   "id": "bcb6bdde-3b14-4be8-b76f-ed633265e381",
   "metadata": {},
   "outputs": [],
   "source": [
    "# To find the odd numbers in the list ,Created the list and function then initilaization the count to 0 and appling for loop in list then checking where the number is mod with 2 so in case of the remainder the count increases by 1  "
   ]
  },
  {
   "cell_type": "code",
   "execution_count": 74,
   "id": "58ee7738-4e7a-4ae1-9287-9386223745c4",
   "metadata": {},
   "outputs": [
    {
     "name": "stdout",
     "output_type": "stream",
     "text": [
      "3\n"
     ]
    }
   ],
   "source": [
    "numbers= [1,34,56,89,77,56]\n",
    "def count_numbers(lists):\n",
    "    count = 0\n",
    "    for item in numbers:\n",
    "        if item % 2 != 0:\n",
    "            count +=1 \n",
    "    return count\n",
    "    \n",
    "print(count_numbers(numbers))\n"
   ]
  },
  {
   "cell_type": "code",
   "execution_count": null,
   "id": "455a638f-684f-422c-9afe-8d03391557a2",
   "metadata": {},
   "outputs": [],
   "source": [
    "# To find the sum of even Number ,Created the list and function then initialized the sum to 0 then applied the loop in the list then checking the item has remainder or not ,if it dont have remainder then sum the item with the existing sum then return the sum  "
   ]
  },
  {
   "cell_type": "code",
   "execution_count": 76,
   "id": "9b05a359-ea8b-466f-91a8-5d08b3cd5ed6",
   "metadata": {},
   "outputs": [
    {
     "name": "stdout",
     "output_type": "stream",
     "text": [
      "146\n"
     ]
    }
   ],
   "source": [
    "numbers= [1,34,56,89,77,56]\n",
    "def sum_even_numbers(lists):\n",
    "    summ = 0\n",
    "    for item in numbers:\n",
    "        if item % 2 == 0:\n",
    "            summ += item \n",
    "    return summ\n",
    "print(sum_even_numbers(numbers))   "
   ]
  },
  {
   "cell_type": "code",
   "execution_count": null,
   "id": "8adb6634-d6c0-4c78-99fb-a758a54f5d59",
   "metadata": {},
   "outputs": [],
   "source": [
    "# similar to above code just condition is different here, Checked whether the number is less than 0"
   ]
  },
  {
   "cell_type": "code",
   "execution_count": 77,
   "id": "2ac01212-3d86-4b4a-84da-3293f8be030d",
   "metadata": {},
   "outputs": [
    {
     "name": "stdout",
     "output_type": "stream",
     "text": [
      "-57\n"
     ]
    }
   ],
   "source": [
    "numbers= [-1,34,56,89,77,-56]\n",
    "def sum_negative_numbers(lists):\n",
    "    summ = 0\n",
    "    for item in numbers:\n",
    "        if item < 0:\n",
    "            summ += item \n",
    "    return summ\n",
    "print(sum_negative_numbers(numbers))   "
   ]
  },
  {
   "cell_type": "code",
   "execution_count": null,
   "id": "7390050b-7819-4ab2-a37f-69f19047493f",
   "metadata": {},
   "outputs": [],
   "source": [
    "#Similiar to above code ,here getting the length of the words using len and increasing the count having the lenth 5"
   ]
  },
  {
   "cell_type": "code",
   "execution_count": 82,
   "id": "06977f25-042f-4785-a447-f654306e469b",
   "metadata": {},
   "outputs": [
    {
     "name": "stdout",
     "output_type": "stream",
     "text": [
      "2\n"
     ]
    }
   ],
   "source": [
    "words = [\"apple\", \"banana\", \"cherry\", \"date\", \"elephant\", \"fig\", \"grape\"]\n",
    "\n",
    "def count_words(words):\n",
    "    count = 0\n",
    "    for item in words:\n",
    "        if len(item) == 5:\n",
    "            count += 1 \n",
    "    return count\n",
    "print(count_words(words))  "
   ]
  },
  {
   "cell_type": "code",
   "execution_count": null,
   "id": "5da8fc79-d90c-4115-9b1c-cb0d722b76c7",
   "metadata": {},
   "outputs": [],
   "source": [
    "# Here firstly we initialized the summ to 0 and found_even to false then we check the condition for the first even number that has no remainder and found_even is false ,after we get that condtion we change the found_even to true then continue the process and return the sum   "
   ]
  },
  {
   "cell_type": "code",
   "execution_count": 85,
   "id": "6a84828a-8d17-4118-9487-eba853832737",
   "metadata": {},
   "outputs": [
    {
     "name": "stdout",
     "output_type": "stream",
     "text": [
      "279\n"
     ]
    }
   ],
   "source": [
    "numbers= [1,34,56,89,77,56]\n",
    "def sum_even_numbers(lists):\n",
    "    found_even = False\n",
    "    summ = 0\n",
    "    for item in numbers:\n",
    "        if item % 2 == 0 and found_even == False:\n",
    "            found_even = True\n",
    "            continue\n",
    "        else:\n",
    "            summ += item\n",
    "    return summ\n",
    "print(sum_even_numbers(numbers)) "
   ]
  },
  {
   "cell_type": "code",
   "execution_count": null,
   "id": "daf42a57-c8b7-4860-8b5a-cb89aed9df9b",
   "metadata": {},
   "outputs": [],
   "source": [
    "#here counting the list upto the sam occur ,sice we have to provide the first sam occur count so initilized with count to 0 then loop in word, then increasing the count by 1 then checking the condition if item is sam or not ,if it is then  break and return the count "
   ]
  },
  {
   "cell_type": "code",
   "execution_count": 113,
   "id": "5fdc6482-719a-441b-836d-b57db0803f32",
   "metadata": {},
   "outputs": [
    {
     "name": "stdout",
     "output_type": "stream",
     "text": [
      "3\n"
     ]
    }
   ],
   "source": [
    "words = [\"alice\", \"bob\", \"sam\", \"dave\", \"sam\", \"ellen\"]\n",
    "def list_word(lists):\n",
    "    count = 0\n",
    "    for item in words:\n",
    "        count += 1\n",
    "        if item  == 'sam' :\n",
    "            break\n",
    "    return count\n",
    "print(list_word(words)) "
   ]
  },
  {
   "cell_type": "code",
   "execution_count": null,
   "id": "61e27a01-bff5-4eab-903f-ca62795993b9",
   "metadata": {},
   "outputs": [],
   "source": [
    "#string"
   ]
  },
  {
   "cell_type": "code",
   "execution_count": null,
   "id": "17f4d0f9-60a4-4c4f-bd3a-4802acbe68ee",
   "metadata": {},
   "outputs": [],
   "source": [
    "#using enumertae to get the index of word "
   ]
  },
  {
   "cell_type": "code",
   "execution_count": 93,
   "id": "e35c46ab-b30b-44ed-907c-7c41d9c7cb75",
   "metadata": {},
   "outputs": [
    {
     "data": {
      "text/plain": [
       "[(0, 'b'), (1, 'a'), (2, 'n'), (3, 'a'), (4, 'n'), (5, 'a')]"
      ]
     },
     "execution_count": 93,
     "metadata": {},
     "output_type": "execute_result"
    }
   ],
   "source": [
    "fruit = \"banana\"\n",
    "list(enumerate(fruit))"
   ]
  },
  {
   "cell_type": "code",
   "execution_count": 98,
   "id": "2ef8c348-f704-4d7e-b782-a3643eeee3d7",
   "metadata": {},
   "outputs": [
    {
     "data": {
      "text/plain": [
       "6"
      ]
     },
     "execution_count": 98,
     "metadata": {},
     "output_type": "execute_result"
    }
   ],
   "source": [
    "fruit = \"banana\"\n",
    "len(fruit)"
   ]
  },
  {
   "cell_type": "code",
   "execution_count": null,
   "id": "7da4f713-c788-44b4-ab7b-92d5b50b8959",
   "metadata": {},
   "outputs": [],
   "source": [
    "#here it provides the word as per the start index to the end index "
   ]
  },
  {
   "cell_type": "code",
   "execution_count": 99,
   "id": "1d222f8c-7bd3-4874-8bb7-44caf4a85234",
   "metadata": {},
   "outputs": [
    {
     "name": "stdout",
     "output_type": "stream",
     "text": [
      "Pirates\n",
      "the\n",
      "Caribbean\n",
      "['Brad', 'Angelina']\n"
     ]
    }
   ],
   "source": [
    "s = \"Pirates of the Caribbean\"\n",
    "print(s[0:7])\n",
    "print(s[11:14])\n",
    "print(s[15:24])\n",
    "friends = [\"Joe\", \"Zoe\", \"Brad\", \"Angelina\", \"Zuki\", \"Thandi\", \"Paris\"]\n",
    "print(friends[2:4])"
   ]
  },
  {
   "cell_type": "code",
   "execution_count": 104,
   "id": "440be10b-2a4b-41e2-a31c-93efa4e74da9",
   "metadata": {},
   "outputs": [
    {
     "data": {
      "text/plain": [
       "'ana'"
      ]
     },
     "execution_count": 104,
     "metadata": {},
     "output_type": "execute_result"
    }
   ],
   "source": [
    "fruit = \"banana\"\n",
    "#fruit[:3] -->ban\n",
    "#fruit[3:] -->ana\n",
    "fruit[3:999]"
   ]
  },
  {
   "cell_type": "code",
   "execution_count": null,
   "id": "ccc0b25c-4ddd-47e9-aba1-ebec69cd213f",
   "metadata": {},
   "outputs": [],
   "source": [
    "#splits the single string in multiple string and keep in list "
   ]
  },
  {
   "cell_type": "code",
   "execution_count": 114,
   "id": "c3fad14f-aafa-4dae-8e22-80c47f213b91",
   "metadata": {},
   "outputs": [
    {
     "data": {
      "text/plain": [
       "['Well', 'I', 'never', 'did', 'said', 'Alice']"
      ]
     },
     "execution_count": 114,
     "metadata": {},
     "output_type": "execute_result"
    }
   ],
   "source": [
    "ss = \"Well I never did said Alice\"\n",
    "ss.split()"
   ]
  },
  {
   "cell_type": "code",
   "execution_count": null,
   "id": "673caf50-2afc-4a74-9468-3d2d996479de",
   "metadata": {},
   "outputs": [],
   "source": [
    "#create the function to provide the reverse of the word by using [::-1]"
   ]
  },
  {
   "cell_type": "code",
   "execution_count": 116,
   "id": "006d68b0-04bb-4f98-8e39-420069ac9fdb",
   "metadata": {},
   "outputs": [
    {
     "name": "stdin",
     "output_type": "stream",
     "text": [
      "Enter the word word\n"
     ]
    },
    {
     "data": {
      "text/plain": [
       "'drow'"
      ]
     },
     "execution_count": 116,
     "metadata": {},
     "output_type": "execute_result"
    }
   ],
   "source": [
    "def reverse_string(word):\n",
    "    return word[::-1]\n",
    "word = str(input(\"Enter the word\"))\n",
    "reverse_string(word)"
   ]
  },
  {
   "cell_type": "code",
   "execution_count": null,
   "id": "b652897c-6b58-45d8-9cd0-a64a6345745c",
   "metadata": {},
   "outputs": [],
   "source": [
    "# To remove the letter in the word fist we make the function with two argument i.e letter and word then initialize result as empty string then we loop the word for 0 to the length of word then Check the condition whetter the letter equal to word[i] then we continue if match else we store in result and return it "
   ]
  },
  {
   "cell_type": "code",
   "execution_count": 119,
   "id": "75947f4b-548c-48eb-9cbf-b2b913225e63",
   "metadata": {},
   "outputs": [
    {
     "name": "stdin",
     "output_type": "stream",
     "text": [
      "Enter the word word\n",
      "letter to remove from word d\n"
     ]
    },
    {
     "data": {
      "text/plain": [
       "'wor'"
      ]
     },
     "execution_count": 119,
     "metadata": {},
     "output_type": "execute_result"
    }
   ],
   "source": [
    "def remove_Letter(letter,word):\n",
    "    result = ''\n",
    "    for i in range(len(word)):\n",
    "        if letter == word[i]:\n",
    "            continue\n",
    "        else:\n",
    "            result += word[i]\n",
    "    return result\n",
    "            \n",
    "word = str(input(\"Enter the word\"))\n",
    "letter=str(input(\"letter to remove from word\"))\n",
    "remove_Letter(letter, word)"
   ]
  },
  {
   "cell_type": "code",
   "execution_count": null,
   "id": "5016b970-a431-4dc9-ad5e-e062ebe0f78a",
   "metadata": {},
   "outputs": [],
   "source": [
    "# here to check whether the word is palindrome or not ,we first get the reverse string then comparre with the original string "
   ]
  },
  {
   "cell_type": "code",
   "execution_count": 123,
   "id": "6e1331bf-6f15-444e-9c9a-0ec6dea0d906",
   "metadata": {},
   "outputs": [
    {
     "name": "stdin",
     "output_type": "stream",
     "text": [
      "Enter the word weew\n"
     ]
    },
    {
     "data": {
      "text/plain": [
       "True"
      ]
     },
     "execution_count": 123,
     "metadata": {},
     "output_type": "execute_result"
    }
   ],
   "source": [
    "def palindromes(word):\n",
    "    reverse_string = word[::-1]\n",
    "    if(word == reverse_string):\n",
    "        return True\n",
    "    else:\n",
    "        return False\n",
    "word = str(input(\"Enter the word\"))\n",
    "palindromes(word)"
   ]
  },
  {
   "cell_type": "code",
   "execution_count": null,
   "id": "d1b71681-570a-4d29-8891-efae551e95eb",
   "metadata": {},
   "outputs": [],
   "source": [
    "#to count the similar letter in the two string ,make the function with the two argument and initialize the count to 0 then loop for both the string and checking if match count increase and returned"
   ]
  },
  {
   "cell_type": "code",
   "execution_count": 125,
   "id": "8dd5d804-45b6-485d-b03d-2c9f07949f34",
   "metadata": {},
   "outputs": [
    {
     "name": "stdin",
     "output_type": "stream",
     "text": [
      "Enter the word word\n",
      "letter to remove from word ro\n"
     ]
    },
    {
     "data": {
      "text/plain": [
       "2"
      ]
     },
     "execution_count": 125,
     "metadata": {},
     "output_type": "execute_result"
    }
   ],
   "source": [
    "def count_Letter(letter,word):\n",
    "    count = 0\n",
    "    for i in range(len(word)):\n",
    "        for j in range(len(letter)):\n",
    "            if letter[j] == word[i]:\n",
    "                count +=1\n",
    "    return count\n",
    "            \n",
    "word = str(input(\"Enter the word\"))\n",
    "letter=str(input(\"letter to remove from word\"))\n",
    "count_Letter(letter, word)"
   ]
  },
  {
   "cell_type": "code",
   "execution_count": 130,
   "id": "687d39a8-a6c4-4303-9f1e-41f1ef58d45b",
   "metadata": {},
   "outputs": [],
   "source": [
    "##Tuples -->known for grouping data and used to swap th data and return the two value in the function "
   ]
  },
  {
   "cell_type": "code",
   "execution_count": 137,
   "id": "9c252092-081a-4b2c-8ff1-3c2ff6412e54",
   "metadata": {},
   "outputs": [
    {
     "data": {
      "text/plain": [
       "('Bob', 19)"
      ]
     },
     "execution_count": 137,
     "metadata": {},
     "output_type": "execute_result"
    }
   ],
   "source": [
    "b = (\"Bob\", 19, \"CS\")\n",
    "(name, age, studies) = b\n",
    "name,age"
   ]
  },
  {
   "cell_type": "code",
   "execution_count": 193,
   "id": "a713248c-34ed-47d4-b145-91bd9c9947dd",
   "metadata": {},
   "outputs": [
    {
     "data": {
      "text/plain": [
       "(5, 4)"
      ]
     },
     "execution_count": 193,
     "metadata": {},
     "output_type": "execute_result"
    }
   ],
   "source": [
    "a = 4\n",
    "b = 5\n",
    "(a,b) = (b,a)\n",
    "a,b"
   ]
  },
  {
   "cell_type": "code",
   "execution_count": 194,
   "id": "5cb158fa-9f13-4371-9746-8e0785184410",
   "metadata": {},
   "outputs": [],
   "source": [
    "##list -->Lists are mutable"
   ]
  },
  {
   "cell_type": "code",
   "execution_count": 140,
   "id": "76d27cb8-fbcd-4883-97c5-815b773845bc",
   "metadata": {},
   "outputs": [
    {
     "name": "stdout",
     "output_type": "stream",
     "text": [
      "The number of students taking CompSci is 3\n"
     ]
    }
   ],
   "source": [
    "students = [\n",
    "(\"John\", [\"CompSci\", \"Physics\"]),\n",
    "(\"Vusi\", [\"Maths\", \"CompSci\", \"Stats\"]),\n",
    "(\"Jess\", [\"CompSci\", \"Accounting\", \"Economics\", \"Management\"]),\n",
    "(\"Sarah\", [\"InfSys\", \"Accounting\", \"Economics\", \"CommLaw\"]),\n",
    "(\"Zuki\", [\"Sociology\", \"Economics\", \"Law\", \"Stats\", \"Music\"])]\n",
    "\n",
    "# Count how many students are taking CompSci\n",
    "counter = 0\n",
    "for (name, subjects) in students:\n",
    "    if \"CompSci\" in subjects:\n",
    "        counter += 1\n",
    "print(\"The number of students taking CompSci is\", counter)"
   ]
  },
  {
   "cell_type": "code",
   "execution_count": 145,
   "id": "abee8595-2f92-4b5b-a13c-8e3f8ba90d36",
   "metadata": {},
   "outputs": [
    {
     "data": {
      "text/plain": [
       "['b', 'c']"
      ]
     },
     "execution_count": 145,
     "metadata": {},
     "output_type": "execute_result"
    }
   ],
   "source": [
    "## list Slices\n",
    "a_list = [\"a\", \"b\", \"c\", \"d\", \"e\", \"f\"]\n",
    "#a_list[:] --> ['a', 'b', 'c', 'd', 'e', 'f']\n",
    "#a_list[3:] -->['d', 'e', 'f']\n",
    "#a_list[:4] --> ['a', 'b', 'c', 'd']\n",
    "a_list[1:3] "
   ]
  },
  {
   "cell_type": "code",
   "execution_count": 147,
   "id": "12745b0d-bd3b-40e6-9dd9-9bd91258d062",
   "metadata": {},
   "outputs": [
    {
     "data": {
      "text/plain": [
       "['one', 'three']"
      ]
     },
     "execution_count": 147,
     "metadata": {},
     "output_type": "execute_result"
    }
   ],
   "source": [
    "## list deletion\n",
    "a = [\"one\", \"two\", \"three\"]\n",
    "del a[1]\n",
    "a"
   ]
  },
  {
   "cell_type": "code",
   "execution_count": 150,
   "id": "bc1e6c48-6e27-4584-981e-79e052a258d7",
   "metadata": {},
   "outputs": [
    {
     "data": {
      "text/plain": [
       "([1, 2, 3], [1, 2, 3])"
      ]
     },
     "execution_count": 150,
     "metadata": {},
     "output_type": "execute_result"
    }
   ],
   "source": [
    "## cloning list\n",
    "a = [1, 2, 3]\n",
    "b = a[:]\n",
    "a,b"
   ]
  },
  {
   "cell_type": "code",
   "execution_count": null,
   "id": "e2efec27-79b9-4113-b3a4-fdda3c8dcbb9",
   "metadata": {},
   "outputs": [],
   "source": [
    "#List methods"
   ]
  },
  {
   "cell_type": "code",
   "execution_count": 328,
   "id": "e03aa01c-5b3d-42cc-8566-638a267ab697",
   "metadata": {},
   "outputs": [
    {
     "data": {
      "text/plain": [
       "[5, 27, 3, 12]"
      ]
     },
     "execution_count": 328,
     "metadata": {},
     "output_type": "execute_result"
    }
   ],
   "source": [
    "#Create an empty list and use .append() to add five elements to it one by one.\n",
    "mylist = []\n",
    "mylist.append(5)\n",
    "mylist.append(27)\n",
    "mylist.append(3)\n",
    "mylist.append(12)\n",
    "mylist"
   ]
  },
  {
   "cell_type": "code",
   "execution_count": 176,
   "id": "3070bc88-e79f-43d0-a4fe-ddba006215a1",
   "metadata": {},
   "outputs": [
    {
     "data": {
      "text/plain": [
       "[5, 12, 27, 3, 12]"
      ]
     },
     "execution_count": 176,
     "metadata": {},
     "output_type": "execute_result"
    }
   ],
   "source": [
    "mylist.insert(1, 12) # Insert 12 at pos 1, shift other items up\n",
    "mylist"
   ]
  },
  {
   "cell_type": "code",
   "execution_count": 177,
   "id": "1e64e80b-e965-4d8d-bbc5-94cdecf704dc",
   "metadata": {},
   "outputs": [
    {
     "data": {
      "text/plain": [
       "2"
      ]
     },
     "execution_count": 177,
     "metadata": {},
     "output_type": "execute_result"
    }
   ],
   "source": [
    "mylist.count(12) # How many times is 12 in mylist?"
   ]
  },
  {
   "cell_type": "code",
   "execution_count": 178,
   "id": "da1d9504-cf6e-4995-adf0-06f8e4b09fdb",
   "metadata": {},
   "outputs": [
    {
     "data": {
      "text/plain": [
       "[5, 12, 27, 3, 12, 5, 9, 5, 11]"
      ]
     },
     "execution_count": 178,
     "metadata": {},
     "output_type": "execute_result"
    }
   ],
   "source": [
    "mylist.extend([5, 9, 5, 11]) # Put whole list onto end of mylist\n",
    "mylist\n"
   ]
  },
  {
   "cell_type": "code",
   "execution_count": 179,
   "id": "5eec5274-4161-4007-ab39-5c2d8ea3a517",
   "metadata": {},
   "outputs": [
    {
     "data": {
      "text/plain": [
       "6"
      ]
     },
     "execution_count": 179,
     "metadata": {},
     "output_type": "execute_result"
    }
   ],
   "source": [
    "mylist.index(9) # Find index of first 9 in mylist"
   ]
  },
  {
   "cell_type": "code",
   "execution_count": 180,
   "id": "dd116c44-1367-463b-a727-020beb9d47bb",
   "metadata": {},
   "outputs": [
    {
     "data": {
      "text/plain": [
       "[11, 5, 9, 5, 12, 3, 27, 12, 5]"
      ]
     },
     "execution_count": 180,
     "metadata": {},
     "output_type": "execute_result"
    }
   ],
   "source": [
    "mylist.reverse()\n",
    "mylist"
   ]
  },
  {
   "cell_type": "code",
   "execution_count": 181,
   "id": "ee77461d-66ae-47b4-81d8-689d03ca11e9",
   "metadata": {},
   "outputs": [
    {
     "data": {
      "text/plain": [
       "[3, 5, 5, 5, 9, 11, 12, 12, 27]"
      ]
     },
     "execution_count": 181,
     "metadata": {},
     "output_type": "execute_result"
    }
   ],
   "source": [
    "mylist.sort()\n",
    "mylist"
   ]
  },
  {
   "cell_type": "code",
   "execution_count": 190,
   "id": "edb86672-32db-4c51-909c-8a365f1a4739",
   "metadata": {},
   "outputs": [
    {
     "data": {
      "text/plain": [
       "(10, 20)"
      ]
     },
     "execution_count": 190,
     "metadata": {},
     "output_type": "execute_result"
    }
   ],
   "source": [
    "#nested List\n",
    "nested = [\"hello\", 2.0, 5, [10, 20]]\n",
    "nested[3][0] ,nested[3][1]"
   ]
  },
  {
   "cell_type": "code",
   "execution_count": null,
   "id": "a25f515d-5056-4aaa-9842-d33bbfd1cc1d",
   "metadata": {},
   "outputs": [],
   "source": [
    "# Here, 10 is start ,0 is end and -2 is step"
   ]
  },
  {
   "cell_type": "code",
   "execution_count": 184,
   "id": "1bd7069d-d8fe-4b40-b189-8fbb44b7d3cf",
   "metadata": {},
   "outputs": [
    {
     "data": {
      "text/plain": [
       "[10, 8, 6, 4, 2]"
      ]
     },
     "execution_count": 184,
     "metadata": {},
     "output_type": "execute_result"
    }
   ],
   "source": [
    "list(range(10, 0, -2))"
   ]
  },
  {
   "cell_type": "code",
   "execution_count": 191,
   "id": "0b508b77-1c92-4fd8-a7dc-16a4a2baf449",
   "metadata": {},
   "outputs": [],
   "source": [
    "#Dictories"
   ]
  },
  {
   "cell_type": "code",
   "execution_count": 219,
   "id": "049d3f50-9399-46fe-8eb7-c9f094d8dfdf",
   "metadata": {},
   "outputs": [
    {
     "name": "stdout",
     "output_type": "stream",
     "text": [
      "{'brand': 'Ford', 'electric': False, 'year': 1964, 'colors': ['red', 'white', 'blue']}\n",
      "Ford\n",
      "4\n"
     ]
    }
   ],
   "source": [
    "thisdict = {\n",
    "  \"brand\": \"Ford\",\n",
    "  \"electric\": False,\n",
    "  \"year\": 1964,\n",
    "  \"colors\": [\"red\", \"white\", \"blue\"]\n",
    "}\n",
    "print(thisdict)\n",
    "print(thisdict[\"brand\"])\n",
    "print(len(thisdict))"
   ]
  },
  {
   "cell_type": "code",
   "execution_count": 327,
   "id": "158dc5e3-b3a1-42f1-87ca-4ed1611ccce1",
   "metadata": {},
   "outputs": [
    {
     "name": "stdout",
     "output_type": "stream",
     "text": [
      "key: brand\n",
      "key: electric\n",
      "key: year\n",
      "key: colors\n",
      "values: Ford\n",
      "values: False\n",
      "values: 1964\n",
      "values: ['red', 'white', 'blue']\n",
      "brand : Ford\n",
      "electric : False\n",
      "year : 1964\n",
      "colors : ['red', 'white', 'blue']\n"
     ]
    }
   ],
   "source": [
    "# Loop through the dictionary and print all keys.\n",
    "#Loop through the dictionary and print all values.\n",
    "# Loop through both keys and values in the dictionary using .items().\n",
    "thisdict = {\n",
    "  \"brand\": \"Ford\",\n",
    "  \"electric\": False,\n",
    "  \"year\": 1964,\n",
    "  \"colors\": [\"red\", \"white\", \"blue\"]\n",
    "}\n",
    "for key in thisdict:\n",
    "    print(\"key:\",key)\n",
    "    \n",
    "for values in thisdict.values():\n",
    "    print(\"values:\",values)\n",
    "    \n",
    "for key ,values in thisdict.items():\n",
    "    print(key ,':', values)\n",
    "    \n"
   ]
  },
  {
   "cell_type": "code",
   "execution_count": 246,
   "id": "ee9be6f9-0d4f-4eab-a647-ea552c2ed662",
   "metadata": {},
   "outputs": [
    {
     "name": "stdout",
     "output_type": "stream",
     "text": [
      "{'brand': 'Ford', 'electric': False, 'year': 1964, 'colors': ['red', 'white', 'blue'], 'type': 'car'}\n"
     ]
    }
   ],
   "source": [
    "#add new items in dictionaries\n",
    "thisdict = {\n",
    "  \"brand\": \"Ford\",\n",
    "  \"electric\": False,\n",
    "  \"year\": 1964,\n",
    "  \"colors\": [\"red\", \"white\", \"blue\"]\n",
    "}\n",
    "thisdict[\"type\"] = \"car\"\n",
    "print(thisdict)"
   ]
  },
  {
   "cell_type": "code",
   "execution_count": 245,
   "id": "3f55faab-3bb2-41a8-8482-20677562c826",
   "metadata": {},
   "outputs": [
    {
     "name": "stdout",
     "output_type": "stream",
     "text": [
      "{'electric': False, 'year': 1964, 'colors': ['red', 'white', 'blue'], 'type': 'car'}\n"
     ]
    }
   ],
   "source": [
    "#delete the item\n",
    "thisdict.pop(\"brand\")\n",
    "print(thisdict)"
   ]
  },
  {
   "cell_type": "code",
   "execution_count": 259,
   "id": "345244a3-2bdc-4313-80f4-de2da055f82a",
   "metadata": {},
   "outputs": [
    {
     "data": {
      "text/plain": [
       "'grape'"
      ]
     },
     "execution_count": 259,
     "metadata": {},
     "output_type": "execute_result"
    }
   ],
   "source": [
    "#Create a list of five fruits. Print the third fruit.\n",
    "fruits = ['Apple', 'Banana','grape','litchy','pear']\n",
    "fruits[2]"
   ]
  },
  {
   "cell_type": "code",
   "execution_count": 260,
   "id": "ce68d7e5-48a8-460e-8619-5483a0afdb55",
   "metadata": {},
   "outputs": [
    {
     "name": "stdout",
     "output_type": "stream",
     "text": [
      "['Apple', 'Banana', 'grape', 'litchy', 'pear', 'mango']\n"
     ]
    }
   ],
   "source": [
    "# Add \"mango\" to the end of a list\n",
    "fruits.append(\"mango\")\n",
    "print(fruits)"
   ]
  },
  {
   "cell_type": "code",
   "execution_count": 261,
   "id": "0562eeac-72e0-4c78-a0be-d86b4c86b29c",
   "metadata": {},
   "outputs": [
    {
     "name": "stdout",
     "output_type": "stream",
     "text": [
      "['Apple', 'lemon', 'grape', 'litchy', 'pear', 'mango']\n"
     ]
    }
   ],
   "source": [
    "#Insert \"lemon\" at second position in a list of fruits\n",
    "fruits[1] = 'lemon'\n",
    "print(fruits)"
   ]
  },
  {
   "cell_type": "code",
   "execution_count": 262,
   "id": "c2780982-2cde-4698-a4b9-9520e5f8e8e4",
   "metadata": {},
   "outputs": [
    {
     "data": {
      "text/plain": [
       "'Apple'"
      ]
     },
     "execution_count": 262,
     "metadata": {},
     "output_type": "execute_result"
    }
   ],
   "source": [
    "#Remove the first item from a list using `pop()\n",
    "fruits.pop(0)"
   ]
  },
  {
   "cell_type": "code",
   "execution_count": 270,
   "id": "1fa89ff9-fffd-464b-93f9-99fa079a9bfa",
   "metadata": {},
   "outputs": [
    {
     "data": {
      "text/plain": [
       "False"
      ]
     },
     "execution_count": 270,
     "metadata": {},
     "output_type": "execute_result"
    }
   ],
   "source": [
    "# Check if \"banana\" is in the list. Print a message accordingly\n",
    "fruits = ['Apple', 'grape', 'litchy', 'pear']\n",
    "\n",
    "def check_banana(fruit_list):\n",
    "    for item in fruit_list:\n",
    "        if item == 'Banana':\n",
    "            return True\n",
    "    return False\n",
    "\n",
    "check_banana(fruits)\n"
   ]
  },
  {
   "cell_type": "code",
   "execution_count": 272,
   "id": "97a0cd14-fc7c-4cd6-be0e-810a69acb516",
   "metadata": {},
   "outputs": [
    {
     "name": "stdout",
     "output_type": "stream",
     "text": [
      "1\n",
      "10\n"
     ]
    }
   ],
   "source": [
    "#Create a list with numbers from 1 to 10. Print the first and last number\n",
    "numbers=[1,2,3,4,5,6,7,8,9,10]\n",
    "print(numbers[0])\n",
    "print(numbers[len(numbers)-1])\n"
   ]
  },
  {
   "cell_type": "code",
   "execution_count": 276,
   "id": "6d0e49f8-6df9-43d0-a206-b4e2b6310d36",
   "metadata": {},
   "outputs": [
    {
     "name": "stdout",
     "output_type": "stream",
     "text": [
      "[10, 30, 20, 40]\n"
     ]
    }
   ],
   "source": [
    "# here,remove help to delete the number by accessing direct number to delete \n",
    "numbers = [10, 20, 30, 20, 40]\n",
    "numbers.remove(20)  \n",
    "print(numbers)"
   ]
  },
  {
   "cell_type": "code",
   "execution_count": 280,
   "id": "c30652d9-f5d4-4f11-8e95-2d81e1806455",
   "metadata": {},
   "outputs": [
    {
     "name": "stdout",
     "output_type": "stream",
     "text": [
      "[10, 20, 20, 40]\n"
     ]
    }
   ],
   "source": [
    "# here,pop help to delete the number by accessing index to delete \n",
    "numbers = [10, 20, 30,20, 40]\n",
    "removed = numbers.pop(2)\n",
    "print(numbers)"
   ]
  },
  {
   "cell_type": "code",
   "execution_count": 281,
   "id": "8583ac20-6512-40fc-b66b-182d01f54b32",
   "metadata": {},
   "outputs": [
    {
     "ename": "IndexError",
     "evalue": "list index out of range",
     "output_type": "error",
     "traceback": [
      "\u001b[1;31m---------------------------------------------------------------------------\u001b[0m",
      "\u001b[1;31mIndexError\u001b[0m                                Traceback (most recent call last)",
      "Cell \u001b[1;32mIn[281], line 1\u001b[0m\n\u001b[1;32m----> 1\u001b[0m numbers[\u001b[38;5;241m9\u001b[39m]\n",
      "\u001b[1;31mIndexError\u001b[0m: list index out of range"
     ]
    }
   ],
   "source": [
    "numbers[9]"
   ]
  },
  {
   "cell_type": "code",
   "execution_count": 283,
   "id": "2fad0564-c919-46c7-90bb-0794db157a15",
   "metadata": {},
   "outputs": [
    {
     "name": "stdout",
     "output_type": "stream",
     "text": [
      "Apple\n",
      "Banana\n",
      "grape\n",
      "litchy\n",
      "pear\n"
     ]
    }
   ],
   "source": [
    "fruits = ['Apple', 'Banana','grape','litchy','pear']\n",
    "for item in fruits:\n",
    "    print(item)"
   ]
  },
  {
   "cell_type": "code",
   "execution_count": 287,
   "id": "76859d44-cf16-4df6-aa00-aa6b297a527c",
   "metadata": {},
   "outputs": [
    {
     "name": "stdout",
     "output_type": "stream",
     "text": [
      "[1, 6, 23, 34, 44, 45, 65, 78]\n",
      "[78, 65, 45, 44, 34, 23, 6, 1]\n"
     ]
    }
   ],
   "source": [
    "#Create a list with random numbers. Sort a list of numbers in ascending and descending order. And, Use slicing to get the first three items from a sorted list\n",
    "numbers=[1,34,23,45,65,78,6,44]\n",
    "numbers.sort()\n",
    "print(numbers)\n",
    "numbers.reverse()\n",
    "print(numbers)"
   ]
  },
  {
   "cell_type": "code",
   "execution_count": 290,
   "id": "f98d6617-ba75-4301-9101-79ab222b9768",
   "metadata": {},
   "outputs": [
    {
     "data": {
      "text/plain": [
       "[78, 65, 45]"
      ]
     },
     "execution_count": 290,
     "metadata": {},
     "output_type": "execute_result"
    }
   ],
   "source": [
    "#print the only top 3 item form the list\n",
    "numbers[:3]"
   ]
  },
  {
   "cell_type": "code",
   "execution_count": null,
   "id": "b695abe4-1f1a-4922-80eb-7aa643dcf64f",
   "metadata": {},
   "outputs": [],
   "source": [
    "#here to know the repetation of the input string first w emake the function passing the letter argument and intialize count to 0 then loop in alphabets to get the alphabets and comparing it with the input then if matched then count increse and then if the count is 0 then letter doesnot exist else print the count "
   ]
  },
  {
   "cell_type": "code",
   "execution_count": 291,
   "id": "f50e26d7-bdac-4e59-b08a-57f9fd884deb",
   "metadata": {},
   "outputs": [
    {
     "name": "stdin",
     "output_type": "stream",
     "text": [
      "enter the letter a\n"
     ]
    },
    {
     "data": {
      "text/plain": [
       "4"
      ]
     },
     "execution_count": 291,
     "metadata": {},
     "output_type": "execute_result"
    }
   ],
   "source": [
    "alphabets = [\"a\", \"n\", \"y\", \"a\", \"w\", \"y\", \"a\", \"w\", \"b\", \"z\", \"c\", \"a\"]\n",
    "\n",
    "def count_alphabets(letter):\n",
    "    count = 0\n",
    "    for char in alphabets:\n",
    "        if char == letter:\n",
    "            count += 1\n",
    "    if(count == 0):\n",
    "        return \"letter doesnot exist\"\n",
    "    else:\n",
    "        return count\n",
    "letter = str(input(\"enter the letter\"))\n",
    "count_alphabets(letter)"
   ]
  },
  {
   "cell_type": "code",
   "execution_count": 326,
   "id": "c5e4108b-6758-4263-806c-0cb59077875f",
   "metadata": {},
   "outputs": [
    {
     "name": "stdout",
     "output_type": "stream",
     "text": [
      "99\n",
      "2\n"
     ]
    }
   ],
   "source": [
    "# find max and min \n",
    "numbers = [12, 45, 2, 99, 23, 7, 56]\n",
    "\n",
    "max_value = max(numbers)\n",
    "min_value = min(numbers)\n",
    "print(max_value)\n",
    "print(min_value)"
   ]
  },
  {
   "cell_type": "code",
   "execution_count": 320,
   "id": "66aa5ad2-8b68-4fc7-ac21-002197ba08af",
   "metadata": {},
   "outputs": [
    {
     "name": "stdout",
     "output_type": "stream",
     "text": [
      "{'name': 'Ram', 'age': 25, 'grade': 12}\n"
     ]
    },
    {
     "data": {
      "text/plain": [
       "12"
      ]
     },
     "execution_count": 320,
     "metadata": {},
     "output_type": "execute_result"
    }
   ],
   "source": [
    "# Create a dictionary called student with the keys: 'name', 'age', and 'grade'. Fill in your own values.\n",
    "# Print the value of the 'grade' key from the student dictionary.\n",
    "user = { 'name':'Ram','age':25,'grade':12}\n",
    "print(user)\n",
    "user['grade']\n"
   ]
  },
  {
   "cell_type": "code",
   "execution_count": 321,
   "id": "da99e01e-3914-4abc-b98e-f7e1b2de3292",
   "metadata": {},
   "outputs": [
    {
     "name": "stdout",
     "output_type": "stream",
     "text": [
      "{'name': 'Ram', 'age': 25, 'grade': 12, 'suject': 'maths'}\n"
     ]
    }
   ],
   "source": [
    "# Add a new key 'subject' with the value 'Math' to the student dictionary.\n",
    "\n",
    "user['suject'] = 'maths'\n",
    "print(user)"
   ]
  },
  {
   "cell_type": "code",
   "execution_count": 322,
   "id": "c691ac67-81d7-432b-8b22-9d443ee9b68f",
   "metadata": {},
   "outputs": [
    {
     "name": "stdout",
     "output_type": "stream",
     "text": [
      "{'name': 'Ram', 'age': 20, 'grade': 12, 'suject': 'maths'}\n"
     ]
    }
   ],
   "source": [
    "#Change the 'age' value to 20.\n",
    "user['age']=20\n",
    "print(user)"
   ]
  },
  {
   "cell_type": "code",
   "execution_count": 323,
   "id": "2c9de9d4-a90a-4430-9af3-09fd30d0f985",
   "metadata": {},
   "outputs": [
    {
     "name": "stdout",
     "output_type": "stream",
     "text": [
      "{'name': 'Ram', 'age': 20, 'grade': 12}\n"
     ]
    }
   ],
   "source": [
    "#5. Delete the 'subject' key from the dictionary.\n",
    "\n",
    "user.pop('suject')\n",
    "print(user)"
   ]
  },
  {
   "cell_type": "code",
   "execution_count": 324,
   "id": "a72f4541-6d09-4bc6-8b31-5c1ee3bbb782",
   "metadata": {},
   "outputs": [
    {
     "data": {
      "text/plain": [
       "3"
      ]
     },
     "execution_count": 324,
     "metadata": {},
     "output_type": "execute_result"
    }
   ],
   "source": [
    "#6. Use len() to find the number of key-value pairs in the dictionary.\n",
    "len(user)"
   ]
  },
  {
   "cell_type": "code",
   "execution_count": 325,
   "id": "a3b7bc90-60e7-477f-be34-a9facdf9e0d7",
   "metadata": {},
   "outputs": [
    {
     "name": "stdout",
     "output_type": "stream",
     "text": [
      "name exist\n"
     ]
    }
   ],
   "source": [
    "#7. Check if the key 'name' exists in the dictionary.\n",
    "user = { 'name':'Ram','age':25,'grade':12}\n",
    "if 'name' in user:\n",
    "    print(\"name exist\")\n",
    "else:\n",
    "    print(\"name doesnot exist\")"
   ]
  },
  {
   "cell_type": "code",
   "execution_count": 332,
   "id": "b86381b7-4744-4670-b62c-ac0318d72e62",
   "metadata": {},
   "outputs": [
    {
     "name": "stdout",
     "output_type": "stream",
     "text": [
      "10\n",
      "45\n",
      "5\n",
      "2\n",
      "5\n"
     ]
    }
   ],
   "source": [
    "#Create a list of 10 numbers. Print only the numbers at even indexes.\n",
    "numbers=[10,34,45,44,5,4,2,5,5,3]\n",
    "for i in range(len(numbers)):\n",
    "    if(i%2==0):\n",
    "        print(numbers[i])\n"
   ]
  },
  {
   "cell_type": "code",
   "execution_count": 336,
   "id": "59dc230a-61fa-40b9-9afa-ff5ebe317259",
   "metadata": {},
   "outputs": [
    {
     "name": "stdout",
     "output_type": "stream",
     "text": [
      "544\n",
      "57\n",
      "52\n",
      "56\n",
      "89\n"
     ]
    }
   ],
   "source": [
    "#Create a list of 10 random numbers and print only the numbers greater than 50.\n",
    "numbers=[10,34,45,544,50,4,2,57,52,3,56,89]\n",
    "for item in numbers:\n",
    "    if(item > 50):\n",
    "        print(item)"
   ]
  },
  {
   "cell_type": "code",
   "execution_count": 339,
   "id": "7ceaddcd-5f18-4f17-a2e4-b05b09c018b9",
   "metadata": {},
   "outputs": [
    {
     "name": "stdout",
     "output_type": "stream",
     "text": [
      "[1, 2, 3, 4, 23, 45, 54, 76]\n"
     ]
    }
   ],
   "source": [
    "#Use .extend() to add all items from one list into another.\n",
    "list1 = [1,2,3,4]\n",
    "list2 = [23,45,54,76]\n",
    "list1.extend(list2)\n",
    "print(list1)"
   ]
  },
  {
   "cell_type": "code",
   "execution_count": 341,
   "id": "448fa165-e011-4ccd-8169-411eb4239492",
   "metadata": {},
   "outputs": [
    {
     "data": {
      "text/plain": [
       "544"
      ]
     },
     "execution_count": 341,
     "metadata": {},
     "output_type": "execute_result"
    }
   ],
   "source": [
    "#Write a function that returns the largest number in a list.\n",
    "numbers=[10,34,45,544,50,4,2,57,52,3,56,89]\n",
    "def maximum(number):\n",
    "    return max(number)\n",
    "maximum(numbers)"
   ]
  },
  {
   "cell_type": "code",
   "execution_count": 346,
   "id": "e647996a-7b11-48b3-b15c-d2844135d420",
   "metadata": {},
   "outputs": [
    {
     "name": "stdout",
     "output_type": "stream",
     "text": [
      "minor\n",
      "adult\n",
      "minor\n",
      "adult\n",
      "adult\n",
      "minor\n",
      "adult\n",
      "adult\n"
     ]
    }
   ],
   "source": [
    "#Given a list of ages [10, 40, 17, 18, 20, 13, 25, 30], print “adult” if age is 18 or more, else print “minor”.\n",
    "ages=[10, 40, 17, 18, 20, 13, 25, 30]\n",
    "for item in ages:\n",
    "    if(item >= 18):\n",
    "        print('adult')\n",
    "    else:\n",
    "        print('minor')"
   ]
  },
  {
   "cell_type": "code",
   "execution_count": null,
   "id": "490ce12c-8f89-42f3-ac5e-9346b99759ff",
   "metadata": {},
   "outputs": [],
   "source": [
    "#in this firstly we initiaxe the sum to 0 then loop in grades to get the tota sum of marks then we calculate the average and initialize the count to 0 the again loop in gardes to check wheter the marks in greater than averageand if true then count is increased "
   ]
  },
  {
   "cell_type": "code",
   "execution_count": 352,
   "id": "7ece9473-526d-4f08-bd90-3fa4d2dc8f33",
   "metadata": {},
   "outputs": [
    {
     "name": "stdout",
     "output_type": "stream",
     "text": [
      "61.22222222222222\n",
      "4\n"
     ]
    }
   ],
   "source": [
    "#Given a list of grades, calculate the average and count how many grades are above the average.\n",
    "grades =[50,45,56,78,45,67,98,67,45]\n",
    "sum = 0\n",
    "for item in grades:\n",
    "    sum += item \n",
    "average = sum/len(grades)\n",
    "print(average)\n",
    "count = 0\n",
    "for item in grades:\n",
    "    if item > average:\n",
    "        count +=1\n",
    "print(count)\n"
   ]
  },
  {
   "cell_type": "code",
   "execution_count": null,
   "id": "956f7042-485d-440c-9632-ce5f1d23892d",
   "metadata": {},
   "outputs": [],
   "source": []
  }
 ],
 "metadata": {
  "kernelspec": {
   "display_name": "Python 3 (ipykernel)",
   "language": "python",
   "name": "python3"
  },
  "language_info": {
   "codemirror_mode": {
    "name": "ipython",
    "version": 3
   },
   "file_extension": ".py",
   "mimetype": "text/x-python",
   "name": "python",
   "nbconvert_exporter": "python",
   "pygments_lexer": "ipython3",
   "version": "3.13.5"
  }
 },
 "nbformat": 4,
 "nbformat_minor": 5
}
