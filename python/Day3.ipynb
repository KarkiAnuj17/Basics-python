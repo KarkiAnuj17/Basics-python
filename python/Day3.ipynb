{
 "cells": [
  {
   "cell_type": "code",
   "execution_count": 4,
   "id": "8d93e760-6f09-41ee-b19c-6004a27ebf91",
   "metadata": {},
   "outputs": [
    {
     "name": "stdout",
     "output_type": "stream",
     "text": [
      "Ram\n"
     ]
    }
   ],
   "source": [
    "#creating class\n",
    "class Student :\n",
    "    name = \"Ram\"\n",
    "\n",
    "#creating object(instances)\n",
    "s1 = Student()\n",
    "print(s1.name)"
   ]
  },
  {
   "cell_type": "code",
   "execution_count": 18,
   "id": "d9fcfc70-d8d6-452e-89d8-1d17f72d7925",
   "metadata": {},
   "outputs": [
    {
     "name": "stdout",
     "output_type": "stream",
     "text": [
      "add other student\n",
      "Ram 78\n",
      "add other student\n",
      "Shyam 34\n"
     ]
    }
   ],
   "source": [
    "#using constructor\n",
    "class Student:\n",
    "    # Default Constructor\n",
    "    def __init__(self):\n",
    "        pass\n",
    "        \n",
    "    # Parametrized Constructor\n",
    "    def __init__(self, name, marks):\n",
    "        self.name = name\n",
    "        self.marks = marks\n",
    "        print(\"add other student\")\n",
    "        \n",
    "s1 = Student(\"Ram\",78)\n",
    "print(s1.name, s1.marks)\n",
    "\n",
    "s2 = Student(\"Shyam\",34)\n",
    "print(s2.name, s2.marks)"
   ]
  },
  {
   "cell_type": "code",
   "execution_count": 22,
   "id": "13b79699-92dc-4977-9b07-020340026d91",
   "metadata": {},
   "outputs": [
    {
     "name": "stdout",
     "output_type": "stream",
     "text": [
      "add other student\n",
      "Ram 78 Xavier\n",
      "add other student\n",
      "Shyam 34 Xavier\n"
     ]
    }
   ],
   "source": [
    "# using class attributes to store the same attributes for all object\n",
    "class Student: \n",
    "    #class Attributes\n",
    "    college_name = \"Xavier\"\n",
    "    \n",
    "    def __init__(self, name, marks):\n",
    "        #object Attributes\n",
    "        self.name = name\n",
    "        self.marks = marks\n",
    "        print(\"add other student\")\n",
    "        \n",
    "s1 = Student(\"Ram\",78)\n",
    "print(s1.name, s1.marks, s1.college_name)\n",
    "\n",
    "s2 = Student(\"Shyam\",34)\n",
    "print(s2.name, s2.marks, s2.college_name)"
   ]
  },
  {
   "cell_type": "code",
   "execution_count": 39,
   "id": "7a639a5f-dacd-4baf-a45e-971449103841",
   "metadata": {},
   "outputs": [
    {
     "name": "stdout",
     "output_type": "stream",
     "text": [
      "Welcome Student, Ram you have obtained 23 mark\n",
      "23\n"
     ]
    }
   ],
   "source": [
    "#Methods\n",
    "#Instances method \n",
    "class Student:\n",
    "    def __init__(self, name, marks):\n",
    "        self.name = name\n",
    "        self.marks = marks\n",
    "\n",
    "    def welcome(self):\n",
    "        print(\"Welcome Student,\", self.name, \"you have obtained\", self.marks, \"mark\" )\n",
    "\n",
    "    def get_marks(self):\n",
    "        return self.marks\n",
    "\n",
    "s1 = Student(\"Ram\",23)\n",
    "s1.welcome()\n",
    "print(s1.get_marks())"
   ]
  },
  {
   "cell_type": "code",
   "execution_count": 42,
   "id": "99932019-7a9b-4079-8339-f37199dd98a0",
   "metadata": {},
   "outputs": [
    {
     "name": "stdout",
     "output_type": "stream",
     "text": [
      "Hari [78, 80, 50]\n",
      "69.33333333333333\n",
      "Ram [78, 80, 50]\n"
     ]
    }
   ],
   "source": [
    "#Create the student class that take the name and marks of three subjects as a argument in constructor.Them create the method to print the average\n",
    "\n",
    "class Student():\n",
    "    def __init__(self, name, marks):\n",
    "        self.name = name\n",
    "        self.marks = marks\n",
    "\n",
    "    def average(self):\n",
    "        sum = 0;\n",
    "        for item in self.marks:\n",
    "            sum += item\n",
    "        average = sum / len(self.marks)\n",
    "        return average\n",
    "        \n",
    "s1 = Student(\"Hari\", [78, 80, 50])\n",
    "print(s1.name, s1.marks)\n",
    "print(s1.average())\n",
    "\n",
    "#Change the name \n",
    "s1.name = \"Ram\"\n",
    "print(s1.name, s1.marks)"
   ]
  },
  {
   "cell_type": "code",
   "execution_count": 44,
   "id": "0cd46c7a-fd2e-4c71-970c-c55a23600c6c",
   "metadata": {},
   "outputs": [
    {
     "name": "stdout",
     "output_type": "stream",
     "text": [
      "welcome\n"
     ]
    }
   ],
   "source": [
    "#Static method \n",
    "class Student():\n",
    "    def __init__(self, name, marks):\n",
    "        self.name = name \n",
    "        self.marks = marks\n",
    "\n",
    "    #decorators\n",
    "    @staticmethod\n",
    "    def welcome():\n",
    "        print(\"welcome\")\n",
    "s1 = Student(\"Hari\",28)\n",
    "s1.welcome()"
   ]
  },
  {
   "cell_type": "code",
   "execution_count": 49,
   "id": "b42d5f8c-5fbc-4582-b1a7-1cc8372e08f9",
   "metadata": {
    "scrolled": true
   },
   "outputs": [
    {
     "name": "stdout",
     "output_type": "stream",
     "text": [
      "Total balance is  9000\n",
      "None\n",
      "Total balance is  12000\n",
      "None\n"
     ]
    }
   ],
   "source": [
    "# Create an account with the two attributes - balance and account no and create the method for debit, credit, & printing the balance\n",
    "\n",
    "class Account():\n",
    "    def __init__(self, balance, account_no):\n",
    "        self.balance = balance\n",
    "        self.account_no = account_no\n",
    "\n",
    "    def debit(self, amount):\n",
    "        self.balance -= amount\n",
    "        print(\"Total balance is \" , self.get_balance())\n",
    "\n",
    "    def credit(self, amount):\n",
    "        self.balance += amount\n",
    "        print(\"Total balance is \" , self.get_balance())\n",
    "\n",
    "    def get_balance(self):\n",
    "        return self.balance\n",
    "\n",
    "s1 = Account(12000,23456)\n",
    "print(s1.debit(3000)) \n",
    "print(s1.credit(3000))    "
   ]
  },
  {
   "cell_type": "code",
   "execution_count": null,
   "id": "379346db-4b1d-49dd-b466-6d64002eed4d",
   "metadata": {},
   "outputs": [],
   "source": [
    "#class Method \n",
    "class Student:\n",
    "    count = 0  \n",
    "\n",
    "    def __init__(self, name):  \n",
    "        Student.count += 1\n",
    "\n",
    "    @classmethod\n",
    "    def get_total_students(cls):\n",
    "        return cls.count\n",
    "\n",
    "s1 = Student(\"Anuj\")\n",
    "s2 = Student(\"Ram\")\n",
    "\n",
    "\n",
    "print(Student.get_total_students()) \n"
   ]
  },
  {
   "cell_type": "code",
   "execution_count": 54,
   "id": "46ab2e5d-911d-4988-bcad-04ff2b19ce4f",
   "metadata": {},
   "outputs": [
    {
     "ename": "AttributeError",
     "evalue": "'Account' object has no attribute '__acc_password'",
     "output_type": "error",
     "traceback": [
      "\u001b[1;31m---------------------------------------------------------------------------\u001b[0m",
      "\u001b[1;31mAttributeError\u001b[0m                            Traceback (most recent call last)",
      "Cell \u001b[1;32mIn[54], line 8\u001b[0m\n\u001b[0;32m      5\u001b[0m         \u001b[38;5;28mself\u001b[39m\u001b[38;5;241m.\u001b[39m__acc_password \u001b[38;5;241m=\u001b[39m acc_password\n\u001b[0;32m      7\u001b[0m s1 \u001b[38;5;241m=\u001b[39m Account(\u001b[38;5;241m12322\u001b[39m, \u001b[38;5;124m\"\u001b[39m\u001b[38;5;124mwewwweww\u001b[39m\u001b[38;5;124m\"\u001b[39m)\n\u001b[1;32m----> 8\u001b[0m \u001b[38;5;28mprint\u001b[39m(s1\u001b[38;5;241m.\u001b[39macc_no, s1\u001b[38;5;241m.\u001b[39m__acc_password)\n",
      "\u001b[1;31mAttributeError\u001b[0m: 'Account' object has no attribute '__acc_password'"
     ]
    }
   ],
   "source": [
    "# to make the private atribute (use __ ), its only accesible inside the class\n",
    "class Account():\n",
    "    def __init__(self, acc_no, acc_password):\n",
    "        self.acc_no = acc_no\n",
    "        self.__acc_password = acc_password\n",
    "\n",
    "s1 = Account(12322, \"wewwweww\")\n",
    "print(s1.acc_no, s1.__acc_password)"
   ]
  },
  {
   "cell_type": "code",
   "execution_count": 56,
   "id": "5189a14d-4eee-469a-8221-e666cf0412a3",
   "metadata": {
    "scrolled": true
   },
   "outputs": [
    {
     "name": "stdout",
     "output_type": "stream",
     "text": [
      "Canine\n",
      "Canine\n",
      "Canine\n",
      "Wolf\n"
     ]
    }
   ],
   "source": [
    "#Overriding\n",
    "class Dog:\n",
    "    species = \"Canine\"  # Class attribute\n",
    "\n",
    "    def __init__(self, name):\n",
    "        self.name = name  # Instance attribute\n",
    "\n",
    "dog1 = Dog(\"Buddy\")\n",
    "dog2 = Dog(\"Max\")\n",
    "\n",
    "print(dog1.species)  \n",
    "print(dog2.species)  \n",
    "\n",
    "dog2.species = \"Wolf\"  # This overrides at instance level\n",
    "\n",
    "print(dog1.species)  # Canine (still unchanged)\n",
    "print(dog2.species)  # Wolf (overridden)\n"
   ]
  },
  {
   "cell_type": "code",
   "execution_count": null,
   "id": "ba8cb3e8-16df-409a-ac29-14b009dbf75f",
   "metadata": {},
   "outputs": [],
   "source": []
  }
 ],
 "metadata": {
  "kernelspec": {
   "display_name": "Python 3 (ipykernel)",
   "language": "python",
   "name": "python3"
  },
  "language_info": {
   "codemirror_mode": {
    "name": "ipython",
    "version": 3
   },
   "file_extension": ".py",
   "mimetype": "text/x-python",
   "name": "python",
   "nbconvert_exporter": "python",
   "pygments_lexer": "ipython3",
   "version": "3.13.5"
  }
 },
 "nbformat": 4,
 "nbformat_minor": 5
}
