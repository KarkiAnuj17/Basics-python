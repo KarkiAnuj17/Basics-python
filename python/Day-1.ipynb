{
 "cells": [
  {
   "cell_type": "code",
   "execution_count": 3,
   "id": "ee21b5f8-cb8b-4195-bb82-1c7a654aa255",
   "metadata": {},
   "outputs": [
    {
     "name": "stdout",
     "output_type": "stream",
     "text": [
      "hello world\n"
     ]
    }
   ],
   "source": [
    "# My first Program\n",
    "print(\"hello world\")"
   ]
  },
  {
   "cell_type": "code",
   "execution_count": 67,
   "id": "c7f9f6b4-ff1a-4ba9-9505-33131f003f1e",
   "metadata": {},
   "outputs": [
    {
     "name": "stdout",
     "output_type": "stream",
     "text": [
      "they am the python developer\n",
      "laptop writes the code itself \n"
     ]
    }
   ],
   "source": [
    "#English sentence with understandable semantics but incorrect syntax\n",
    "print(\"they am the python developer\")\n",
    "\n",
    "#English sentence which has correct syntax but has semantic errors\n",
    "print(\"laptop writes the code itself \")"
   ]
  },
  {
   "cell_type": "code",
   "execution_count": 18,
   "id": "b3a17848-de39-4985-bfaf-b44500fb6e8e",
   "metadata": {},
   "outputs": [
    {
     "data": {
      "text/plain": [
       "3"
      ]
     },
     "execution_count": 18,
     "metadata": {},
     "output_type": "execute_result"
    }
   ],
   "source": [
    "1 + 2"
   ]
  },
  {
   "cell_type": "code",
   "execution_count": 19,
   "id": "bb088373-3c11-450a-a810-8449b0963f71",
   "metadata": {},
   "outputs": [
    {
     "data": {
      "text/plain": [
       "8"
      ]
     },
     "execution_count": 19,
     "metadata": {},
     "output_type": "execute_result"
    }
   ],
   "source": [
    "2 ** 3"
   ]
  },
  {
   "cell_type": "code",
   "execution_count": 20,
   "id": "f8754d1e-29db-487c-b183-d493ba13efd7",
   "metadata": {},
   "outputs": [
    {
     "data": {
      "text/plain": [
       "9"
      ]
     },
     "execution_count": 20,
     "metadata": {},
     "output_type": "execute_result"
    }
   ],
   "source": [
    "(1 + 2) * 3"
   ]
  },
  {
   "cell_type": "code",
   "execution_count": 15,
   "id": "e4c44d2e-aa68-4d3e-888a-7cab664af857",
   "metadata": {},
   "outputs": [
    {
     "ename": "SyntaxError",
     "evalue": "invalid syntax (530143727.py, line 2)",
     "output_type": "error",
     "traceback": [
      "\u001b[1;36m  Cell \u001b[1;32mIn[15], line 2\u001b[1;36m\u001b[0m\n\u001b[1;33m    1 2\u001b[0m\n\u001b[1;37m      ^\u001b[0m\n\u001b[1;31mSyntaxError\u001b[0m\u001b[1;31m:\u001b[0m invalid syntax\n"
     ]
    }
   ],
   "source": [
    "#Type 1 2 without the operator shows error\n",
    "1 2"
   ]
  },
  {
   "cell_type": "code",
   "execution_count": 16,
   "id": "0eedd6fe-3a0e-40e2-b122-d2a5a3c9242c",
   "metadata": {},
   "outputs": [
    {
     "ename": "NameError",
     "evalue": "name 'cheese' is not defined",
     "output_type": "error",
     "traceback": [
      "\u001b[1;31m---------------------------------------------------------------------------\u001b[0m",
      "\u001b[1;31mNameError\u001b[0m                                 Traceback (most recent call last)",
      "Cell \u001b[1;32mIn[16], line 2\u001b[0m\n\u001b[0;32m      1\u001b[0m \u001b[38;5;66;03m# cheese without the quotation marks shows error\u001b[39;00m\n\u001b[1;32m----> 2\u001b[0m \u001b[38;5;28mprint\u001b[39m(cheese)\n",
      "\u001b[1;31mNameError\u001b[0m: name 'cheese' is not defined"
     ]
    }
   ],
   "source": [
    "# cheese without the quotation marks shows error\n",
    "print(cheese)"
   ]
  },
  {
   "cell_type": "code",
   "execution_count": 13,
   "id": "0bfd303c-7f1a-4bc8-8b5d-fc4081ed18a3",
   "metadata": {},
   "outputs": [
    {
     "data": {
      "text/plain": [
       "42"
      ]
     },
     "execution_count": 13,
     "metadata": {},
     "output_type": "execute_result"
    }
   ],
   "source": [
    "# Here,automatically shows the result\n",
    "6 + 4 * 9"
   ]
  },
  {
   "cell_type": "code",
   "execution_count": 14,
   "id": "8640641b-70f1-4c25-89ca-0bd4fda97806",
   "metadata": {},
   "outputs": [
    {
     "name": "stdout",
     "output_type": "stream",
     "text": [
      "42\n"
     ]
    }
   ],
   "source": [
    "# Print shows the result\n",
    "print(6 + 4 * 9)"
   ]
  },
  {
   "cell_type": "code",
   "execution_count": null,
   "id": "1126dd56-7263-4375-9b27-b9e0092fd505",
   "metadata": {},
   "outputs": [],
   "source": [
    "# using input to take from users "
   ]
  },
  {
   "cell_type": "code",
   "execution_count": 68,
   "id": "75cb59c1-d733-4458-bf34-5dde5aa1e55f",
   "metadata": {},
   "outputs": [
    {
     "name": "stdout",
     "output_type": "stream",
     "text": [
      "All work and\n"
     ]
    }
   ],
   "source": [
    "a = \"All\"\n",
    "b = \"work\"\n",
    "c = \"and\"\n",
    "d = \"no\"\n",
    "e = \"play\"\n",
    "f = \"makes\"\n",
    "g = \"Jack\"\n",
    "h = \"a\"\n",
    "i = \"dull\"\n",
    "j = \"boy\"\n",
    "print(a +' '+ b +' '+ c)"
   ]
  },
  {
   "cell_type": "code",
   "execution_count": 29,
   "id": "6c5c8a54-3e06-45c7-a01f-9f1e535b8c86",
   "metadata": {},
   "outputs": [
    {
     "name": "stdin",
     "output_type": "stream",
     "text": [
      "the number of years to compund 4\n"
     ]
    },
    {
     "name": "stdout",
     "output_type": "stream",
     "text": [
      "43319.98027230039\n"
     ]
    }
   ],
   "source": [
    "# Calculating the Amount\n",
    "p = 10000\n",
    "n = 12\n",
    "r = 8/100\n",
    "t = int(input(\"the number of years to compund\"))\n",
    "\n",
    "a = p *(1 + r/n)**n*t \n",
    "print(a)"
   ]
  },
  {
   "cell_type": "code",
   "execution_count": 17,
   "id": "bc7052a6-21af-4715-8910-e2cf8425cb23",
   "metadata": {},
   "outputs": [
    {
     "name": "stdin",
     "output_type": "stream",
     "text": [
      "Enter the current Time  3\n",
      "Number of hours to wait (in hrs) 234\n"
     ]
    },
    {
     "name": "stdout",
     "output_type": "stream",
     "text": [
      "21\n"
     ]
    }
   ],
   "source": [
    "# Calculating the time \n",
    "currentTime = int(input(\"Enter the current Time \"))\n",
    "noOfHours = int(input(\"Number of hours to wait (in hrs)\"))\n",
    "a = noOfHours % 24\n",
    "if(a>24):\n",
    "    a = a - 24\n",
    "\n",
    "print(a + currentTime)"
   ]
  },
  {
   "cell_type": "code",
   "execution_count": null,
   "id": "154800c5-6ea8-486d-8d2e-3f2ee4f83aac",
   "metadata": {},
   "outputs": [],
   "source": [
    "# Used loop to iterate in the list"
   ]
  },
  {
   "cell_type": "code",
   "execution_count": 62,
   "id": "adcdb8a4-5e74-48c5-9e2a-f47f4f4a807d",
   "metadata": {},
   "outputs": [
    {
     "name": "stdout",
     "output_type": "stream",
     "text": [
      "One of the months of the year is January\n",
      "One of the months of the year is February\n",
      "One of the months of the year is March\n",
      "One of the months of the year is April\n"
     ]
    }
   ],
   "source": [
    "months=['January','February','March','April']\n",
    "for item in months:\n",
    "    print(f\"One of the months of the year is {item}\")"
   ]
  },
  {
   "cell_type": "code",
   "execution_count": null,
   "id": "2624d195-3a63-463b-9c9f-f2c5a2cbb8a8",
   "metadata": {},
   "outputs": [],
   "source": [
    "# Used ** for square"
   ]
  },
  {
   "cell_type": "code",
   "execution_count": 9,
   "id": "86db8bbe-9064-4c7f-8b27-7d729bf8e4b1",
   "metadata": {},
   "outputs": [
    {
     "name": "stdout",
     "output_type": "stream",
     "text": [
      "number: 12\n",
      "square: 144\n",
      "number: 10\n",
      "square: 100\n",
      "number: 32\n",
      "square: 1024\n",
      "number: 3\n",
      "square: 9\n",
      "number: 66\n",
      "square: 4356\n",
      "number: 17\n",
      "square: 289\n",
      "number: 42\n",
      "square: 1764\n",
      "number: 99\n",
      "square: 9801\n",
      "number: 20\n",
      "square: 400\n",
      " Total: 301\n",
      " multiply: 1074879590400\n"
     ]
    }
   ],
   "source": [
    "xs = [12, 10, 32, 3, 66, 17, 42, 99, 20]\n",
    "total = 0\n",
    "multiply = 1\n",
    "\n",
    "for item in xs:\n",
    "    print(f\"number: {item}\")\n",
    "    print(f\"square: {item**2}\")\n",
    "    total = total + item\n",
    "    multiply = multiply * item\n",
    "    \n",
    "print(f\" Total: {total}\")\n",
    "print(f\" multiply: {multiply}\")\n"
   ]
  },
  {
   "cell_type": "code",
   "execution_count": null,
   "id": "a62a0623-b8b8-4056-b4cc-4b80053fce8e",
   "metadata": {},
   "outputs": [],
   "source": [
    "# Used function with argument and call the function"
   ]
  },
  {
   "cell_type": "code",
   "execution_count": 12,
   "id": "95258883-9649-4d65-8a65-f24696033938",
   "metadata": {
    "scrolled": true
   },
   "outputs": [
    {
     "name": "stdin",
     "output_type": "stream",
     "text": [
      "Enter the amout to invest 1000\n"
     ]
    },
    {
     "data": {
      "text/plain": [
       "9378.90625"
      ]
     },
     "execution_count": 12,
     "metadata": {},
     "output_type": "execute_result"
    }
   ],
   "source": [
    "def amount(p,r,n,t):\n",
    "    a = p *(1 + r/n)**n*t \n",
    "    return a\n",
    "principle = float(input(\"Enter the amout to invest\"))\n",
    "amount(principle,3,4,1)\n"
   ]
  },
  {
   "cell_type": "code",
   "execution_count": 15,
   "id": "65a45c33-a76d-459a-83ad-d0abcdb12cd7",
   "metadata": {},
   "outputs": [
    {
     "name": "stdin",
     "output_type": "stream",
     "text": [
      "Enter the radious of the circle 7\n"
     ]
    },
    {
     "data": {
      "text/plain": [
       "154.0"
      ]
     },
     "execution_count": 15,
     "metadata": {},
     "output_type": "execute_result"
    }
   ],
   "source": [
    "# Calculate the Area of Circle\n",
    "def area_of_circle(r):\n",
    "    pi = 22/7\n",
    "    return pi*r**2\n",
    "r= float(input(\"Enter the radious of the circle\"))\n",
    "area_of_circle(r)"
   ]
  },
  {
   "cell_type": "code",
   "execution_count": null,
   "id": "0beba4f1-fc73-4a4e-9d8f-1daad1e4d446",
   "metadata": {},
   "outputs": [],
   "source": [
    "# accesed the item from the list using day[number]"
   ]
  },
  {
   "cell_type": "code",
   "execution_count": 115,
   "id": "78e74d4c-5a4f-416c-bb31-ed3c9397a897",
   "metadata": {},
   "outputs": [
    {
     "name": "stdin",
     "output_type": "stream",
     "text": [
      "Enter the day of the week 3\n"
     ]
    },
    {
     "data": {
      "text/plain": [
       "'Wednesday'"
      ]
     },
     "execution_count": 115,
     "metadata": {},
     "output_type": "execute_result"
    }
   ],
   "source": [
    "days = [\"Sunday\" , \"Monday\" ,\"Tuesday\", \"Wednesday\", \"Thursday\" , \"Friday\" , \"Saturday\"]\n",
    "\n",
    "def day(number):\n",
    "    return days[number]\n",
    "\n",
    "number = int(input(\"Enter the day of the week\"))\n",
    "if( number > 6):\n",
    "    number = int(input(\"Enter the day of the week in range 0-6\"))\n",
    "day(number)"
   ]
  },
  {
   "cell_type": "code",
   "execution_count": 117,
   "id": "83b570d1-60cb-4847-be64-c397d61e3968",
   "metadata": {},
   "outputs": [
    {
     "name": "stdin",
     "output_type": "stream",
     "text": [
      "Enter the day of the week 2\n",
      "Enter the no of sleep 233\n"
     ]
    },
    {
     "data": {
      "text/plain": [
       "'Thursday'"
      ]
     },
     "execution_count": 117,
     "metadata": {},
     "output_type": "execute_result"
    }
   ],
   "source": [
    "days = [\"Sunday\" , \"Monday\" ,\"Tuesday\", \"Wednesday\" , \"Thursday\" , \"Friday\" , \"Saturday\"]\n",
    "\n",
    "def day(number , no_of_sleep):\n",
    "    return_date = no_of_sleep % 7 + number\n",
    "    if(return_date > 7):\n",
    "        return_date -= 7\n",
    "    return days[return_date]\n",
    "\n",
    "number = int(input(\"Enter the day of the week\"))\n",
    "if(number < 0 or number > 6):\n",
    "    number = int(input(\"Enter the day of the week in range 0-6\"))\n",
    "no_of_sleep = int(input(\"Enter the no of sleep\"))\n",
    "\n",
    "day(number , no_of_sleep)"
   ]
  },
  {
   "cell_type": "code",
   "execution_count": null,
   "id": "a32099aa-192c-4ea2-bfa3-b630bce9bc3c",
   "metadata": {},
   "outputs": [],
   "source": [
    "#used if..elif"
   ]
  },
  {
   "cell_type": "code",
   "execution_count": 114,
   "id": "990c9367-ea4c-4c9b-a5c3-fb93e2db620b",
   "metadata": {},
   "outputs": [
    {
     "name": "stdout",
     "output_type": "stream",
     "text": [
      "marks 83 => Grade: First\n",
      "marks 75 => Grade: First\n",
      "marks 74.9 => Grade: Upper Second\n",
      "marks 70 => Grade: Second\n",
      "marks 69.9 => Grade: Second\n",
      "marks 65 => Grade: Second\n",
      "marks 60 => Grade: Third\n",
      "marks 59.9 => Grade: Third\n",
      "marks 55 => Grade: Third\n",
      "marks 50 => Grade: F1 Supp\n",
      "marks 49.9 => Grade: F1 Supp\n",
      "marks 45 => Grade: F2\n",
      "marks 44.9 => Grade: F2\n",
      "marks 40 => Grade: F2\n",
      "marks 39.9 => Grade: F3\n",
      "marks 2 => Grade: F3\n",
      "marks 0 => Grade: F3\n"
     ]
    }
   ],
   "source": [
    "def grade(marks):\n",
    "    if(marks >= 75):\n",
    "        return \"First\"\n",
    "    elif(marks <= 75 and marks > 70):\n",
    "        return \"Upper Second\"\n",
    "    elif(marks <= 70 and marks > 60):\n",
    "        return \"Second\"\n",
    "    elif(marks <= 60 and marks > 50):\n",
    "        return \"Third\"\n",
    "    elif(marks <= 50 and marks > 45):\n",
    "        return \"F1 Supp\"\n",
    "    elif(marks <= 45 and marks >= 40):\n",
    "        return \"F2\"\n",
    "    else:\n",
    "        return \"F3\"\n",
    "        \n",
    "xs = [83, 75, 74.9, 70, 69.9, 65, 60, 59.9, 55, 50, 49.9, 45, 44.9, 40, 39.9, 2, 0]     \n",
    "for marks in xs:\n",
    "    print(f\"marks {marks} => Grade: {grade(marks)}\")"
   ]
  },
  {
   "cell_type": "code",
   "execution_count": 54,
   "id": "7dcecbd0-8894-4afb-a7d9-46a4efd74504",
   "metadata": {},
   "outputs": [
    {
     "name": "stdin",
     "output_type": "stream",
     "text": [
      "Enter the perpendicular 3\n",
      "Enter the base 4\n"
     ]
    },
    {
     "data": {
      "text/plain": [
       "5.0"
      ]
     },
     "execution_count": 54,
     "metadata": {},
     "output_type": "execute_result"
    }
   ],
   "source": [
    "def find_hypot(p,b):\n",
    "    return (p**2 + b**2)**0.5\n",
    "p = float(input(\"Enter the perpendicular\"))\n",
    "b = float(input(\"Enter the base\"))\n",
    "find_hypot(p,b)"
   ]
  },
  {
   "cell_type": "code",
   "execution_count": 118,
   "id": "28bf3a46-ce0f-4341-8f7c-5774ddf73308",
   "metadata": {},
   "outputs": [],
   "source": [
    "# used absolute to make sure that its doesnot give false to the output with the the differnce of small margin while using the float"
   ]
  },
  {
   "cell_type": "code",
   "execution_count": 73,
   "id": "fa60005e-1e0a-4a18-82dc-0d17f57e7d6f",
   "metadata": {},
   "outputs": [
    {
     "name": "stdin",
     "output_type": "stream",
     "text": [
      "Enter the side a 3\n",
      "Enter the side b 4\n",
      "Enter the side c 5\n"
     ]
    },
    {
     "data": {
      "text/plain": [
       "True"
      ]
     },
     "execution_count": 73,
     "metadata": {},
     "output_type": "execute_result"
    }
   ],
   "source": [
    "def is_rightangled(a,b,c):\n",
    "    if(abs(a**2 + b**2 - c**2) < 0.000001 or abs(a**2 + c**2 - b**2) < 0.000001 or abs(c**2 + b**2 - a**2) < 0.000001 ):\n",
    "        return True\n",
    "    else:\n",
    "        return False\n",
    "a = float(input(\"Enter the side a\"))\n",
    "b = float(input(\"Enter the side b\"))\n",
    "c = float(input(\"Enter the side c\"))\n",
    "is_rightangled(a,b,c)"
   ]
  },
  {
   "cell_type": "code",
   "execution_count": null,
   "id": "a2bbc8b9-233a-4ce1-a1b2-bb4dbca7fb58",
   "metadata": {},
   "outputs": [],
   "source": [
    "#used .index to kno"
   ]
  },
  {
   "cell_type": "code",
   "execution_count": 91,
   "id": "7e40eba7-9a7f-4746-b200-2efe9ea959e9",
   "metadata": {},
   "outputs": [
    {
     "name": "stdout",
     "output_type": "stream",
     "text": [
      "Test pass\n",
      "Test pass\n",
      "Test pass\n",
      "Test pass\n"
     ]
    }
   ],
   "source": [
    "compassPoints = [\"N\", \"E\", \"S\", \"W\"]\n",
    "\n",
    "def turn_clockwise(point):\n",
    "    for i in compassPoints:\n",
    "        if point == i:\n",
    "            indexs = compassPoints.index(i)\n",
    "            indexs = (indexs + 1) % 4\n",
    "            return compassPoints[indexs]\n",
    "    return None \n",
    "    \n",
    "#point = str(input(\"enter the string\"))\n",
    "# turn_clockwise(point)\n",
    "\n",
    "def test(result):\n",
    "    if result:\n",
    "        return \"Test pass\"\n",
    "    else:\n",
    "        return \"Test Fail\"\n",
    "\n",
    "def test_suite():\n",
    "    print(test(turn_clockwise(\"N\") == \"E\"))\n",
    "    print(test(turn_clockwise(\"W\") == \"N\"))\n",
    "    print(test(turn_clockwise(42) == None))\n",
    "    print(test(turn_clockwise(\"rubbish\") == None))\n",
    "\n",
    "test_suite()\n"
   ]
  },
  {
   "cell_type": "code",
   "execution_count": 102,
   "id": "be3dfa1e-e955-4183-801d-4977090fc629",
   "metadata": {},
   "outputs": [
    {
     "name": "stdout",
     "output_type": "stream",
     "text": [
      "Test pass\n",
      "Test pass\n",
      "Test pass\n"
     ]
    }
   ],
   "source": [
    "days = [\"Sunday\" , \"Monday\" , \"Tuesday\", \"Wednesday\" , \"Thursday\" , \"Friday\" , \"Saturday\"]\n",
    "def day_name(number):\n",
    "    if 0 <= number <= 6:\n",
    "        return days[number]\n",
    "    else:\n",
    "        return None\n",
    "        \n",
    "def test(result):\n",
    "    if result:\n",
    "        return \"Test pass\"\n",
    "    else:\n",
    "        return \"Test Fail\"\n",
    "\n",
    "def test_suite():\n",
    "    print(test(day_name(3) == \"Wednesday\"))\n",
    "    print(test(day_name(6) == \"Saturday\"))\n",
    "    print(test(day_name(42) == None))\n",
    "\n",
    "test_suite()"
   ]
  },
  {
   "cell_type": "code",
   "execution_count": 113,
   "id": "6d617d8c-1ac4-45b1-afd3-79f0c863b610",
   "metadata": {},
   "outputs": [
    {
     "name": "stdout",
     "output_type": "stream",
     "text": [
      "Test pass\n",
      "Test pass\n"
     ]
    }
   ],
   "source": [
    "days = [\"Sunday\" , \"Monday\" , \"Tuesday\", \"Wednesday\" , \"Thursday\" , \"Friday\" , \"Saturday\"]\n",
    "def day_num(name):\n",
    "     for i in days:\n",
    "        if name == i:\n",
    "            indexs = days.index(i)\n",
    "            return indexs\n",
    "     return None \n",
    "def test(result):\n",
    "    if result:\n",
    "        return \"Test pass\"\n",
    "    else:\n",
    "        return \"Test Fail\"\n",
    "        \n",
    "def test_suite():\n",
    "    print(test(day_num(\"Friday\") == 5))\n",
    "    print(test(day_num(\"Sunday\") == 0))\n",
    "\n",
    "test_suite()"
   ]
  },
  {
   "cell_type": "code",
   "execution_count": null,
   "id": "873e64a3-e3c7-46cf-bb1f-8961a71a5415",
   "metadata": {},
   "outputs": [],
   "source": []
  }
 ],
 "metadata": {
  "kernelspec": {
   "display_name": "Python 3 (ipykernel)",
   "language": "python",
   "name": "python3"
  },
  "language_info": {
   "codemirror_mode": {
    "name": "ipython",
    "version": 3
   },
   "file_extension": ".py",
   "mimetype": "text/x-python",
   "name": "python",
   "nbconvert_exporter": "python",
   "pygments_lexer": "ipython3",
   "version": "3.13.5"
  }
 },
 "nbformat": 4,
 "nbformat_minor": 5
}
